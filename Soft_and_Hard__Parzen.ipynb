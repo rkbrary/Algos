{
 "cells": [
  {
   "cell_type": "code",
   "execution_count": 48,
   "outputs": [],
   "source": [
    "import numpy as np\n",
    "import matplotlib.pyplot as plt\n",
    "import time\n",
    "\n",
    "iris = np.loadtxt('iris.txt')\n",
    "\n",
    "######## DO NOT MODIFY THIS FUNCTION ########\n",
    "def draw_rand_label(x, label_list):\n",
    "    seed = abs(np.sum(x))\n",
    "    while seed < 1:\n",
    "        seed = 10 * seed\n",
    "    seed = int(1000000 * seed)\n",
    "    np.random.seed(seed)\n",
    "    return np.random.choice(label_list)\n",
    "#############################################\n"
   ],
   "metadata": {
    "collapsed": false,
    "pycharm": {
     "name": "#%%\n",
     "is_executing": false
    }
   }
  },
  {
   "cell_type": "code",
   "execution_count": 49,
   "outputs": [],
   "source": [
    "\n",
    "class Q1:\n",
    "\n",
    "    def feature_means(self, iris):\n",
    "        return np.mean(iris[:,:-1],axis=0)\n",
    "\n",
    "    def covariance_matrix(self, iris):\n",
    "        return np.cov(iris.transpose()[:-1])\n",
    "\n",
    "    def feature_means_class_1(self, iris):\n",
    "        return np.mean(iris[iris[:,-1]==1,:-1],axis=0)\n",
    "\n",
    "    def covariance_matrix_class_1(self, iris):\n",
    "        return np.cov(iris[iris[:,-1]==1,:-1].transpose())\n",
    "\n",
    "def minkowski_mat(x, Y, p=2):\n",
    "    return (np.sum((np.abs(x - Y)) ** p, axis=1)) ** (1.0 / p)\n",
    "\n",
    "class HardParzen:\n",
    "    def __init__(self, h):\n",
    "        self.h = h\n",
    "\n",
    "    def train(self, train_inputs, train_labels):\n",
    "        self.train_inputs = train_inputs\n",
    "        self.train_labels = train_labels\n",
    "        self.label_list = np.unique(train_labels)\n",
    "        self.n_classes = len(self.label_list)\n",
    "\n",
    "    # The prediction function takes as input test_data and returns an array containing the predicted classes.\n",
    "    def compute_predictions(self, test_data):\n",
    "        # Initialization of the count matrix and the predicted classes array\n",
    "        num_test = test_data.shape[0]\n",
    "        classes_pred = np.zeros(num_test)\n",
    "        dist = np.zeros(num_test)\n",
    "\n",
    "        for (i, ex) in enumerate(test_data):\n",
    "            counts = np.zeros((num_test, self.n_classes))\n",
    "            dist = minkowski_mat(ex, self.train_inputs)\n",
    "            ind_neighb = [i for (i, pts) in enumerate(self.train_inputs) if dist[i] < self.h]\n",
    "            if ind_neighb == []:\n",
    "                classes_pred[i] = draw_rand_label(ex,self.label_list)\n",
    "            else:\n",
    "                for j in ind_neighb:\n",
    "                    counts[i, int(self.train_labels[j]) - 1] += 1\n",
    "\n",
    "                classes_pred[i] = self.label_list[np.argmax(counts[i, :])]\n",
    "\n",
    "        return classes_pred\n",
    "\n",
    "def Kernel(x,Xi,sigma):\n",
    "    return np.exp(-1/(2*sigma**2)*minkowski_mat(x,Xi)**2)\n",
    "\n",
    "class SoftRBFParzen:\n",
    "    def __init__(self, sigma):\n",
    "        self.sigma  = sigma\n",
    "\n",
    "    def train(self, train_inputs, train_labels):\n",
    "        self.train_inputs = train_inputs\n",
    "        self.train_labels = train_labels\n",
    "        self.label_list = np.unique(train_labels)\n",
    "        self.n_classes = len(self.label_list)\n",
    "\n",
    "    def compute_predictions(self, test_data):\n",
    "        num_test = test_data.shape[0]\n",
    "        classes_pred = np.zeros(num_test)\n",
    "        kernel = np.zeros(num_test)\n",
    "\n",
    "        for (i, ex) in enumerate(test_data):\n",
    "            kernel = Kernel(ex, self.train_inputs,self.sigma)\n",
    "            classes_pred[i]=self.label_list[np.argmax([sum(kernel[self.train_labels==label]) for label in self.label_list])]\n",
    "\n",
    "        return classes_pred\n",
    "\n",
    "def split_dataset(iris):\n",
    "    train=np.array([iris[i] for i in range(iris.shape[0]) if i%5 in {0,1,2}])\n",
    "    validation=np.array([iris[i] for i in range(iris.shape[0]) if i%5 == 3])\n",
    "    test=np.array([iris[i] for i in range(iris.shape[0]) if i%5 == 4])\n",
    "    return tuple([train,validation,test])"
   ],
   "metadata": {
    "collapsed": false,
    "pycharm": {
     "name": "#%%\n",
     "is_executing": false
    }
   }
  },
  {
   "cell_type": "code",
   "execution_count": 50,
   "outputs": [],
   "source": [
    "class ErrorRate:\n",
    "    def __init__(self, x_train, y_train, x_val, y_val):\n",
    "        self.x_train = x_train\n",
    "        self.y_train = y_train\n",
    "        self.x_val = x_val\n",
    "        self.y_val = y_val\n",
    "\n",
    "    def hard_parzen(self, h):\n",
    "        modele=HardParzen(h)\n",
    "        modele.train(self.x_train,self.y_train)\n",
    "        count=0\n",
    "        for i in range(len(self.y_val)):\n",
    "            if modele.compute_predictions(self.x_val)[i]!=self.y_val[i]:\n",
    "                count+=1\n",
    "        return count/len(self.y_val)\n",
    "\n",
    "    def soft_parzen(self, sigma):\n",
    "        modele=SoftRBFParzen(sigma)\n",
    "        modele.train(self.x_train,self.y_train)\n",
    "        count=0\n",
    "        for i in range(len(self.y_val)):\n",
    "            if modele.compute_predictions(self.x_val)[i]!=self.y_val[i]:\n",
    "                count+=1\n",
    "        return count/len(self.y_val)\n"
   ],
   "metadata": {
    "collapsed": false,
    "pycharm": {
     "name": "#%%\n",
     "is_executing": false
    }
   }
  },
  {
   "cell_type": "code",
   "execution_count": 51,
   "outputs": [
    {
     "name": "stderr",
     "text": [
      "C:\\Users\\joss1\\Anaconda3\\envs\\test\\lib\\site-packages\\ipykernel_launcher.py:15: DeprecationWarning: time.clock has been deprecated in Python 3.3 and will be removed from Python 3.8: use time.perf_counter or time.process_time instead\n  from ipykernel import kernelapp as app\nC:\\Users\\joss1\\Anaconda3\\envs\\test\\lib\\site-packages\\ipykernel_launcher.py:17: DeprecationWarning: time.clock has been deprecated in Python 3.3 and will be removed from Python 3.8: use time.perf_counter or time.process_time instead\nC:\\Users\\joss1\\Anaconda3\\envs\\test\\lib\\site-packages\\ipykernel_launcher.py:19: DeprecationWarning: time.clock has been deprecated in Python 3.3 and will be removed from Python 3.8: use time.perf_counter or time.process_time instead\nC:\\Users\\joss1\\Anaconda3\\envs\\test\\lib\\site-packages\\ipykernel_launcher.py:21: DeprecationWarning: time.clock has been deprecated in Python 3.3 and will be removed from Python 3.8: use time.perf_counter or time.process_time instead\n"
     ],
     "output_type": "stream"
    },
    {
     "data": {
      "text/plain": "<Figure size 432x288 with 1 Axes>",
      "image/png": "[encoded data removed]"
     },
     "metadata": {
      "needs_background": "light"
     },
     "output_type": "display_data"
    }
   ],
   "source": [
    "data=split_dataset(iris)\n",
    "h=[0.001, 0.01, 0.1, 0.3, 1.0, 3.0, 10.0, 15.0, 20.0]\n",
    "sigma=[0.001, 0.01, 0.1, 0.3, 1.0, 3.0, 10.0, 15.0, 20.0]\n",
    "\n",
    "error=ErrorRate(data[0][:,:-1],data[0][:,-1],data[2][:,:-1],data[2][:,-1])\n",
    "# error_hard=[error.hard_parzen(i) for i in h]\n",
    "# error_soft=[error.soft_parzen(i) for i in sigma]\n",
    "# h_star=np.argmin(error_hard)\n",
    "# sigma_star=np.argmin(error_soft)\n",
    "\n",
    "t1_h=np.zeros(len(h))\n",
    "t2_sigma=np.zeros(len(h))\n",
    "for i in range(len(h)):\n",
    "    for j in range(10):\n",
    "        t1=time.clock()\n",
    "        error1=error.hard_parzen(h[i])\n",
    "        t2=time.clock()\n",
    "        t1_h[i]+=t2-t1\n",
    "        t3=time.clock()\n",
    "        error.soft_parzen(h[i])\n",
    "        t4=time.clock()\n",
    "        t2_sigma[i]+=t4-t3\n",
    "    t1_h[i]/=10\n",
    "    t2_sigma[i]/=10\n",
    "fig , ax= plt.subplots()\n",
    "ax.plot(sigma,t2_sigma,'b',label='RBF Parzen’s classification running time')\n",
    "ax.plot(h,t1_h,'r',label='Hard Parzen window’s classification running time')\n",
    "ax.legend(loc='center right',shadow=True)\n",
    "plt.ylabel(\"Running time\")\n",
    "plt.xlabel(\"Value of h and sigma\")\n",
    "# plt.savefig('graph3.png')\n",
    "plt.show()"
   ],
   "metadata": {
    "collapsed": false,
    "pycharm": {
     "name": "#%%    \n",
     "is_executing": false
    }
   }
  }
 ],
 "metadata": {
  "kernelspec": {
   "display_name": "Python 3",
   "language": "python",
   "name": "python3"
  },
  "language_info": {
   "codemirror_mode": {
    "name": "ipython",
    "version": 2
   },
   "file_extension": ".py",
   "mimetype": "text/x-python",
   "name": "python",
   "nbconvert_exporter": "python",
   "pygments_lexer": "ipython2",
   "version": "2.7.6"
  },
  "pycharm": {
   "stem_cell": {
    "cell_type": "raw",
    "source": [],
    "metadata": {
     "collapsed": false
    }
   }
  }
 },
 "nbformat": 4,
 "nbformat_minor": 0
}